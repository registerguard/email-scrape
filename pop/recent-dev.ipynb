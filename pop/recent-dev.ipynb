{
 "cells": [
  {
   "cell_type": "code",
   "execution_count": 57,
   "metadata": {
    "collapsed": true
   },
   "outputs": [],
   "source": [
    "# This is a script to get recent stories from multiple DT sections and sort based on timestamp\n",
    "# Rob Denton/The Register-Guard\n",
    "# Created: 9/12/17\n",
    "# Updated: 1/4/18 to add UTM to images, see: https://github.com/registerguard/tracker/issues/641"
   ]
  },
  {
   "cell_type": "code",
   "execution_count": 58,
   "metadata": {
    "collapsed": true
   },
   "outputs": [],
   "source": [
    "from datetime import datetime, date\n",
    "import boto3, requests, os, sys, json, re, logging, logging.handlers, copy"
   ]
  },
  {
   "cell_type": "code",
   "execution_count": null,
   "metadata": {
    "collapsed": true
   },
   "outputs": [],
   "source": []
  },
  {
   "cell_type": "code",
   "execution_count": null,
   "metadata": {
    "collapsed": true
   },
   "outputs": [],
   "source": []
  },
  {
   "cell_type": "code",
   "execution_count": null,
   "metadata": {
    "collapsed": true
   },
   "outputs": [],
   "source": []
  },
  {
   "cell_type": "code",
   "execution_count": 59,
   "metadata": {},
   "outputs": [
    {
     "name": "stdout",
     "output_type": "stream",
     "text": [
      "('/Users/rdenton/github/registerguard/email-scrape/pop', False)\n"
     ]
    }
   ],
   "source": [
    "# Set path & dev, will succeed if run on cron\n",
    "try:\n",
    "    here = os.path.dirname(os.path.abspath(__file__))\n",
    "    dev = False\n",
    "except:\n",
    "    here = os.path.abspath('.')\n",
    "    dev = True\n",
    "#print(here, dev)"
   ]
  },
  {
   "cell_type": "code",
   "execution_count": 60,
   "metadata": {
    "collapsed": true
   },
   "outputs": [],
   "source": [
    "# Logging\n",
    "\n",
    "logger = logging.getLogger('logger')\n",
    "\n",
    "if (dev == True):\n",
    "    logger.setLevel(logging.DEBUG)\n",
    "else:\n",
    "    logger.setLevel(logging.ERROR)\n",
    "\n",
    "# set vars\n",
    "formatter = logging.Formatter('%(asctime)s - %(levelname)s - %(message)s')\n",
    "fileLogger = logging.handlers.RotatingFileHandler(filename=(\"{0}/rec.log\".format(here)), maxBytes=256*1024, backupCount=5) # 256 x 1024 = 256K\n",
    "fileLogger.setFormatter(formatter)\n",
    "logger.addHandler(fileLogger)"
   ]
  },
  {
   "cell_type": "code",
   "execution_count": null,
   "metadata": {
    "collapsed": true
   },
   "outputs": [],
   "source": []
  },
  {
   "cell_type": "code",
   "execution_count": null,
   "metadata": {
    "collapsed": true
   },
   "outputs": [],
   "source": []
  },
  {
   "cell_type": "code",
   "execution_count": null,
   "metadata": {
    "collapsed": true
   },
   "outputs": [],
   "source": []
  },
  {
   "cell_type": "code",
   "execution_count": 61,
   "metadata": {
    "collapsed": true
   },
   "outputs": [],
   "source": [
    "# Get clean datetime object from timestamp string\n",
    "def clean_time(timestamp):\n",
    "    # See: https://docs.python.org/2/library/datetime.html#datetime.datetime.strptime\n",
    "    timestamp = datetime.strptime(timestamp, '%Y-%m-%d %H:%M:%S')\n",
    "    return timestamp"
   ]
  },
  {
   "cell_type": "code",
   "execution_count": 62,
   "metadata": {
    "collapsed": true
   },
   "outputs": [],
   "source": [
    "# Build dictionary of stories with CMS ID as key & dictionary of other data (like timestamp) as value\n",
    "def id_stories(j):\n",
    "    # Create empty dictionary\n",
    "    stories = {}\n",
    "    # Loop over stories\n",
    "    for story in j['stories']:\n",
    "        # Parse timestamp as datetime\n",
    "        story['timestamp'] = clean_time(story['timestamp'])\n",
    "        # Get CMS ID\n",
    "        sid = story['id']\n",
    "        # Get rid of extra values we don't need\n",
    "        story.pop('id')\n",
    "        story.pop('total')\n",
    "        # Create dictionary\n",
    "        stories[sid] = story\n",
    "    return stories"
   ]
  },
  {
   "cell_type": "code",
   "execution_count": 63,
   "metadata": {
    "collapsed": true
   },
   "outputs": [],
   "source": [
    "\"\"\"\n",
    "\n",
    "get_stories() --- Go get stories from the RG's JSON feed\n",
    "\n",
    "Arguments:\n",
    " - section (default: 'local'): This can be any valid section\n",
    " - area (default: 'Updates'): This can be any valide area\n",
    " - publication (default: 'rg'): This should always be 'rg'\n",
    " - items (default: None [API default: 50]): This is not necessary unless there is more than 50 (unlikely) or you want to limit the number returned\n",
    " - callback (default: None [API default: None]): This is only necessary if you want JSONP\n",
    "\n",
    "Examples:\n",
    " - stories = get_stories()\n",
    " - stories = get_stories('sports','Top%20Updates')\n",
    "\n",
    "\"\"\"\n",
    "def get_stories(section='local',area='Updates',publication='rg',items=None,callback=None):\n",
    "    # Set base URL\n",
    "    url = 'http://registerguard.com/csp/cms/sites/rg/feeds/json02.csp'\n",
    "    # Create params payload\n",
    "    payload = {'publication': publication, 'section': section, 'area': area}\n",
    "    if (items):\n",
    "        payload['items'] = items\n",
    "    if (callback):\n",
    "        payload['callback'] = callback\n",
    "    # Make request\n",
    "    try:\n",
    "        r = requests.get(url, params = payload)\n",
    "    except:\n",
    "        stories = None\n",
    "        r = None\n",
    "        logger.error(u\"REQUEST FAILED - {0}: {1}\".format(url, payload))\n",
    "    if (len(r.text)):\n",
    "        d = r.text\n",
    "        j = json.loads(d)\n",
    "        #print(json.dumps(j, sort_keys=True, indent=4, separators=(',', ': ')))\n",
    "        # Go build dictionary\n",
    "        stories = id_stories(j)\n",
    "    return stories"
   ]
  },
  {
   "cell_type": "code",
   "execution_count": null,
   "metadata": {
    "collapsed": true
   },
   "outputs": [],
   "source": []
  },
  {
   "cell_type": "code",
   "execution_count": null,
   "metadata": {
    "collapsed": true
   },
   "outputs": [],
   "source": []
  },
  {
   "cell_type": "code",
   "execution_count": null,
   "metadata": {
    "collapsed": true
   },
   "outputs": [],
   "source": []
  },
  {
   "cell_type": "code",
   "execution_count": 64,
   "metadata": {
    "collapsed": true
   },
   "outputs": [],
   "source": [
    "# Filter for only stories from today\n",
    "def get_updates(d):\n",
    "    # So you don't delete from dt, possibly needed later\n",
    "    u = copy.copy(d)\n",
    "    # Current datetime\n",
    "    now = datetime.now()\n",
    "    # Get datetime for 6 a.m. today\n",
    "    #logger.debug('now.year: {}'.format(now.year))\n",
    "    #logger.debug('now.month: {}'.format(now.month))\n",
    "    #logger.debug('now.day: {}'.format(now.day))\n",
    "    then = datetime(now.year, now.month, now.day, 6, 0, 0)\n",
    "    #logger.debug(\"then: {}\".format(then))\n",
    "    for i in u.keys():\n",
    "        logger.debug(u\"{0}: {1}\".format(i, u[i]['headline']))\n",
    "        if u[i]['timestamp'] < then:\n",
    "            logger.debug(u\"old: {}\".format(u[i]['timestamp']))\n",
    "            del(u[i])\n",
    "        else:\n",
    "            logger.debug(u\"new: {}\".format(u[i]['timestamp']))\n",
    "    return u"
   ]
  },
  {
   "cell_type": "code",
   "execution_count": null,
   "metadata": {
    "collapsed": true
   },
   "outputs": [],
   "source": []
  },
  {
   "cell_type": "code",
   "execution_count": null,
   "metadata": {
    "collapsed": true
   },
   "outputs": [],
   "source": []
  },
  {
   "cell_type": "code",
   "execution_count": null,
   "metadata": {
    "collapsed": true
   },
   "outputs": [],
   "source": []
  },
  {
   "cell_type": "code",
   "execution_count": 65,
   "metadata": {
    "collapsed": true
   },
   "outputs": [],
   "source": [
    "# Get sorted list\n",
    "def sort_updates(u):\n",
    "    sort = []\n",
    "    # Sort on timestamp\n",
    "    #for k,v in sorted(u.iteritems(), key=lambda (k,v): (v['timestamp'],k), reverse=True):\n",
    "    # Sort on popular\n",
    "    for k,v in sorted(u.iteritems(), key=lambda (k,v): (v['popular'],k), reverse=True):\n",
    "        logger.debug(\"{0}: {1}\".format(k,v['timestamp']))\n",
    "        sort.append(k)\n",
    "    return sort"
   ]
  },
  {
   "cell_type": "code",
   "execution_count": null,
   "metadata": {
    "collapsed": true
   },
   "outputs": [],
   "source": []
  },
  {
   "cell_type": "code",
   "execution_count": null,
   "metadata": {
    "collapsed": true
   },
   "outputs": [],
   "source": []
  },
  {
   "cell_type": "code",
   "execution_count": null,
   "metadata": {
    "collapsed": true
   },
   "outputs": [],
   "source": []
  },
  {
   "cell_type": "code",
   "execution_count": 66,
   "metadata": {
    "collapsed": true
   },
   "outputs": [],
   "source": [
    "# Create AP style time format\n",
    "def get_datetime(pubdatetime):\n",
    "    # Deal with date\n",
    "    pubdate = date(pubdatetime.year, pubdatetime.month, pubdatetime.day)\n",
    "    if (pubdate == date.today()):\n",
    "        pubdate = \"today\"\n",
    "    else:\n",
    "        pubdate = pubdate.strftime('%b. %-d')\n",
    "    # Deal with time\n",
    "    # See: https://docs.python.org/2/library/datetime.html#strftime-and-strptime-behavior\n",
    "    pubtime = pubdatetime.strftime('%I:%M')\n",
    "    # Deal with a.m./p.m.\n",
    "    ampm = pubdatetime.strftime('%p')\n",
    "    if (ampm == \"AM\"):\n",
    "        ampm = \"a.m.\"\n",
    "    elif (ampm == \"PM\"):\n",
    "        ampm = \"p.m.\"\n",
    "    pubtime = u\"{0} {1}\".format(pubtime, ampm)\n",
    "    return pubdate, pubtime"
   ]
  },
  {
   "cell_type": "code",
   "execution_count": 67,
   "metadata": {
    "collapsed": true
   },
   "outputs": [],
   "source": [
    "# Create HTML for file\n",
    "def create_html(sorted_list, updates_dict):\n",
    "    html = u\"\"\n",
    "    for i in sorted_list:\n",
    "        # Get vars\n",
    "        cat = updates_dict[i]['category']\n",
    "        img = updates_dict[i]['image-small']\n",
    "        url = updates_dict[i]['url']\n",
    "        head = updates_dict[i]['headline']\n",
    "        pubdate, pubtime = get_datetime(updates_dict[i]['timestamp'])\n",
    "        ymd = date.today().strftime('%Y%m%d')\n",
    "        # Do HTML\n",
    "        if len(img):\n",
    "            html += u\"<div class='img'>\\n<a href='{0}?utm_source=afternoon&utm_medium=email&utm_campaign=afternoon_{1}&utm_content=image'><img src='{2}' alt='Story img'></a></div>\".format(url,ymd,img)\n",
    "        html += u\"<h4>{}</h4>\\n\".format(cat)\n",
    "        html += u\"<h2><a href='{0}?utm_source=afternoon&utm_medium=email&utm_campaign=afternoon_{1}&utm_content=headline'>{2}</a></h2>\".format(url,ymd,head)\n",
    "        html += u\"<p class='italic'>Published {0} at {1}</p>\\n\".format(pubdate, pubtime)\n",
    "        html += u\"<hr style='clear:both'>\\n\\n\"\n",
    "    return html"
   ]
  },
  {
   "cell_type": "code",
   "execution_count": null,
   "metadata": {
    "collapsed": true
   },
   "outputs": [],
   "source": []
  },
  {
   "cell_type": "code",
   "execution_count": null,
   "metadata": {
    "collapsed": true
   },
   "outputs": [],
   "source": []
  },
  {
   "cell_type": "code",
   "execution_count": null,
   "metadata": {
    "collapsed": true
   },
   "outputs": [],
   "source": []
  },
  {
   "cell_type": "code",
   "execution_count": 68,
   "metadata": {
    "collapsed": true
   },
   "outputs": [],
   "source": [
    "\"\"\"\n",
    "\n",
    "write_file() - Write file locally and to S3\n",
    "\n",
    "Requirements:\n",
    " - Global `here` variable that knows where project root is.\n",
    "\n",
    "Arguments:\n",
    " - contents: The long string you want to insert as the contents of the file\n",
    "\n",
    "Example: \n",
    " - write_file(html)\n",
    "\n",
    "\"\"\"\n",
    "\n",
    "def write_file(contents):\n",
    "    f = open('{0}/html/index.html'.format(here), 'w+')\n",
    "    f.write(contents.encode('ascii', 'xmlcharrefreplace'))\n",
    "    f.close()\n",
    "    if (dev == False):\n",
    "        # Write to s3 (Comment out when testing)\n",
    "        # See: https://boto3.readthedocs.io/en/latest/reference/services/s3.html#S3.Client.upload_file\n",
    "        s3 = boto3.resource('s3')\n",
    "        # *** COMMENT OUT FOR DEV ***\n",
    "        s3.meta.client.upload_file('{0}/html/index.html'.format(here),'uploads.registerguard.com','email/popular/index.html', ExtraArgs={'ContentType': \"text/html\", 'ACL': \"public-read\"})"
   ]
  },
  {
   "cell_type": "code",
   "execution_count": null,
   "metadata": {
    "collapsed": true
   },
   "outputs": [],
   "source": []
  },
  {
   "cell_type": "code",
   "execution_count": null,
   "metadata": {
    "collapsed": true
   },
   "outputs": [],
   "source": []
  },
  {
   "cell_type": "code",
   "execution_count": null,
   "metadata": {
    "collapsed": true
   },
   "outputs": [],
   "source": []
  },
  {
   "cell_type": "code",
   "execution_count": 69,
   "metadata": {
    "collapsed": true
   },
   "outputs": [],
   "source": [
    "logger.debug(\"------------------\")\n",
    "logger.debug(\" - ENTER - ENTER -\")\n",
    "logger.debug(\"vvvvvvvvvvvvvvvvvv\")"
   ]
  },
  {
   "cell_type": "code",
   "execution_count": 70,
   "metadata": {
    "collapsed": true
   },
   "outputs": [],
   "source": [
    "# Make request and sort stories into piles\n",
    "local = get_stories('local','Breaking,Updates,Top Stories,Stories')\n",
    "sports = get_stories('sports','Top Updates,Top Stories')\n",
    "news = get_stories('news', 'Breaking,Top Updates')"
   ]
  },
  {
   "cell_type": "code",
   "execution_count": 71,
   "metadata": {
    "collapsed": true
   },
   "outputs": [],
   "source": [
    "# Create combined dt dictionary from stories out of the system\n",
    "dt = {}\n",
    "dt.update(news)\n",
    "dt.update(local)\n",
    "dt.update(sports)\n",
    "#logger.debug(\"dt set:\\n{}\".format(dt))"
   ]
  },
  {
   "cell_type": "code",
   "execution_count": 72,
   "metadata": {
    "collapsed": true
   },
   "outputs": [],
   "source": [
    "updates = get_updates(dt)\n",
    "logger.debug(\"len(updates): {}\\n\\n\".format(len(updates)))"
   ]
  },
  {
   "cell_type": "code",
   "execution_count": 73,
   "metadata": {
    "collapsed": true
   },
   "outputs": [],
   "source": [
    "sorted_updates = sort_updates(updates)"
   ]
  },
  {
   "cell_type": "code",
   "execution_count": 74,
   "metadata": {},
   "outputs": [],
   "source": [
    "my_html = create_html(sorted_updates, updates)\n",
    "\n",
    "try:\n",
    "    write_file(my_html)\n",
    "except UnicodeEncodeError as err:\n",
    "    logger.error(\"ERROR: {}\\n----------------------------\\n\".format(err))\n",
    "    logger.error(out)"
   ]
  },
  {
   "cell_type": "code",
   "execution_count": 75,
   "metadata": {
    "collapsed": true
   },
   "outputs": [],
   "source": [
    "logger.debug(\"^^^^^^^^^^^^^^^^^^\")\n",
    "logger.debug(\" - EXIT --- EXIT -\")\n",
    "logger.debug(\"------------------\")"
   ]
  },
  {
   "cell_type": "code",
   "execution_count": null,
   "metadata": {
    "collapsed": true
   },
   "outputs": [],
   "source": []
  }
 ],
 "metadata": {
  "kernelspec": {
   "display_name": "Python 2",
   "language": "python",
   "name": "python2"
  },
  "language_info": {
   "codemirror_mode": {
    "name": "ipython",
    "version": 2
   },
   "file_extension": ".py",
   "mimetype": "text/x-python",
   "name": "python",
   "nbconvert_exporter": "python",
   "pygments_lexer": "ipython2",
   "version": "2.7.11"
  }
 },
 "nbformat": 4,
 "nbformat_minor": 2
}
