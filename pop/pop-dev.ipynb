{
 "cells": [
  {
   "cell_type": "code",
   "execution_count": 36,
   "metadata": {},
   "outputs": [
    {
     "data": {
      "text/plain": [
       "'\\n\\nGET RECENT, POPULAR STORIES\\n - Queries DT and Chartbeat and creates list of \\n   ... most popular stories published since 6 a.m.\\n\\nCREATED\\n - 8/14/17\\n - Rob Denton/The Register-Guard\\n\\nTODO\\n - Add logging\\n - Re-organize file structure\\n\\n'"
      ]
     },
     "execution_count": 36,
     "metadata": {},
     "output_type": "execute_result"
    }
   ],
   "source": [
    "\"\"\"\n",
    "\n",
    "GET RECENT, POPULAR STORIES\n",
    " - Queries DT and Chartbeat and creates list of \n",
    "   ... most popular stories published since 6 a.m.\n",
    "\n",
    "CREATED\n",
    " - 8/14/17\n",
    " - Rob Denton/The Register-Guard\n",
    "\n",
    "TODO\n",
    " - Add logging\n",
    " - Re-organize file structure\n",
    "\n",
    "\"\"\""
   ]
  },
  {
   "cell_type": "code",
   "execution_count": 37,
   "metadata": {
    "collapsed": true,
    "scrolled": true
   },
   "outputs": [],
   "source": [
    "from datetime import datetime\n",
    "import boto3, requests, os, sys, json, pprint, re, logging, logging.handlers\n",
    "pp = pprint.PrettyPrinter(indent=4)"
   ]
  },
  {
   "cell_type": "code",
   "execution_count": 38,
   "metadata": {
    "collapsed": true
   },
   "outputs": [],
   "source": [
    "\"\"\"\n",
    " --- SET TO TRUE IF TESTING, FALSE BEFORE YOU PUSH TO GITHUB/WAVE ---\n",
    "\"\"\"\n",
    "\n",
    "dev = True\n",
    "\n",
    "if (dev == True):\n",
    "    here = os.path.abspath('.')\n",
    "else:\n",
    "    here = sys.argv[0].split('/')\n",
    "    here.pop()\n",
    "    here = \"/\".join(here)"
   ]
  },
  {
   "cell_type": "code",
   "execution_count": 39,
   "metadata": {},
   "outputs": [
    {
     "name": "stderr",
     "output_type": "stream",
     "text": [
      "2017-08-16 14:50:44,803 - DEBUG - ------------------\n",
      "2017-08-16 14:50:44,803 - DEBUG - ------------------\n",
      "2017-08-16 14:50:44,803 - DEBUG - ------------------\n",
      "2017-08-16 14:50:44,808 - DEBUG -  - ENTER - ENTER -\n",
      "2017-08-16 14:50:44,808 - DEBUG -  - ENTER - ENTER -\n",
      "2017-08-16 14:50:44,808 - DEBUG -  - ENTER - ENTER -\n",
      "2017-08-16 14:50:44,810 - DEBUG - vvvvvvvvvvvvvvvvvv\n",
      "2017-08-16 14:50:44,810 - DEBUG - vvvvvvvvvvvvvvvvvv\n",
      "2017-08-16 14:50:44,810 - DEBUG - vvvvvvvvvvvvvvvvvv\n"
     ]
    }
   ],
   "source": [
    "# ----------------------------------------------------------------------------------------\n",
    "# LOGGING INITIALIZATION\n",
    "# ----------------------------------------------------------------------------------------\n",
    "\n",
    "logger = logging.getLogger('logger')\n",
    "# set level\n",
    "if (dev == True):\n",
    "    logger.setLevel(logging.DEBUG)\n",
    "else:\n",
    "    logger.setLevel(logging.ERROR)\n",
    "\n",
    "# set vars\n",
    "log_file_dir = \"{}/\".format(here)\n",
    "formatter = logging.Formatter('%(asctime)s - %(levelname)s - %(message)s')\n",
    "fileLogger = logging.handlers.RotatingFileHandler(filename=(\"{0}pop.log\".format(log_file_dir)), maxBytes=256*1024, backupCount=5) # 256 x 1024 = 256K\n",
    "fileLogger.setFormatter(formatter)\n",
    "logger.addHandler(fileLogger)\n",
    "\n",
    "if (dev == True):\n",
    "    # Uncomment below to print to console\n",
    "    handler = logging.StreamHandler()\n",
    "    handler.setFormatter(formatter)\n",
    "    logger.addHandler(handler)\n",
    "\n",
    "logger.debug(\"------------------\")\n",
    "logger.debug(\" - ENTER - ENTER -\")\n",
    "logger.debug(\"vvvvvvvvvvvvvvvvvv\")"
   ]
  },
  {
   "cell_type": "code",
   "execution_count": 40,
   "metadata": {
    "collapsed": true
   },
   "outputs": [],
   "source": [
    "\"\"\"\n",
    "\n",
    "get_secret() - Get secrets from secrets.json file\n",
    "\n",
    "Requirements:\n",
    " - Global `here` variable that knows where project root is.\n",
    "\n",
    "Arguments:\n",
    " - service: Name of service you need credentials for, should correspond to upper-level key\n",
    " - token: Name of token you need, should correspond to lower-level key\n",
    "\n",
    "Example:\n",
    " - api_key = get_secret('twitter', 'secret')\n",
    "\n",
    "\"\"\"\n",
    "def get_secret(service, token='null'):\n",
    "    secrets_path = here\n",
    "    with open(\"{}/secrets.json\".format(secrets_path)) as data:\n",
    "        s = json.load(data)\n",
    "        # If there is no token, return whole parent object\n",
    "        if token == 'null':\n",
    "            secret = s['{}'.format(service)]\n",
    "        else:\n",
    "            secret = s['{}'.format(service)]['{}'.format(token)]\n",
    "        return secret"
   ]
  },
  {
   "cell_type": "code",
   "execution_count": 41,
   "metadata": {
    "collapsed": true
   },
   "outputs": [],
   "source": [
    "\"\"\"\n",
    "\n",
    "write_file() - Write file locally and to S3\n",
    "\n",
    "Requirements:\n",
    " - Global `here` variable that knows where project root is.\n",
    "\n",
    "Arguments:\n",
    " - contents: The long string you want to insert as the contents of the file\n",
    "\n",
    "Example: \n",
    " - write_file(html)\n",
    "\n",
    "\"\"\"\n",
    "\n",
    "\n",
    "def write_file(contents):\n",
    "    f = open('{0}/html/index.html'.format(here), 'w+')\n",
    "    f.write(contents)\n",
    "    f.close()\n",
    "    if (dev == False):\n",
    "        # Write to s3 (Comment out when testing)\n",
    "        # See: https://boto3.readthedocs.io/en/latest/reference/services/s3.html#S3.Client.upload_file\n",
    "        s3 = boto3.resource('s3')\n",
    "        # *** COMMENT OUT FOR DEV ***\n",
    "        s3.meta.client.upload_file('{0}/html/index.html'.format(here),'uploads.registerguard.com','email/popular/index.html', ExtraArgs={'ContentType': \"text/html\", 'ACL': \"public-read\"})"
   ]
  },
  {
   "cell_type": "code",
   "execution_count": null,
   "metadata": {
    "collapsed": true
   },
   "outputs": [],
   "source": []
  },
  {
   "cell_type": "code",
   "execution_count": 42,
   "metadata": {
    "collapsed": true
   },
   "outputs": [],
   "source": [
    "# Get clean datetime object from timestamp string\n",
    "def clean_time(timestamp):\n",
    "    # See: https://docs.python.org/2/library/datetime.html#datetime.datetime.strptime\n",
    "    timestamp = datetime.strptime(timestamp, '%Y-%m-%d %H:%M:%S')\n",
    "    return timestamp"
   ]
  },
  {
   "cell_type": "code",
   "execution_count": 43,
   "metadata": {
    "collapsed": true
   },
   "outputs": [],
   "source": [
    "# Build dictionary of stories with CMS ID as key & dictionary of other data (like timestamp) as value\n",
    "def id_stories(j):\n",
    "    # Create empty dictionary\n",
    "    stories = {}\n",
    "    # Loop over stories\n",
    "    for story in j['stories']:\n",
    "        # Get CMS ID\n",
    "        sid = story['id']\n",
    "        # Get rid of extra values we don't need\n",
    "        story.pop('id')\n",
    "        story.pop('total')\n",
    "        # Parse timestamp as datetime\n",
    "        story['timestamp'] = clean_time(story['timestamp'])\n",
    "        # Create dictionary\n",
    "        stories[sid] = story\n",
    "    return stories"
   ]
  },
  {
   "cell_type": "code",
   "execution_count": 44,
   "metadata": {},
   "outputs": [
    {
     "name": "stderr",
     "output_type": "stream",
     "text": [
      "2017-08-16 14:50:45,507 - DEBUG - dt set\n",
      "2017-08-16 14:50:45,507 - DEBUG - dt set\n",
      "2017-08-16 14:50:45,507 - DEBUG - dt set\n"
     ]
    }
   ],
   "source": [
    "\"\"\"\n",
    "\n",
    "get_stories() --- Go get stories from the RG's JSON feed\n",
    "\n",
    "Arguments:\n",
    " - section (default: 'local'): This can be any valid section\n",
    " - area (default: 'Updates'): This can be any valide area\n",
    " - publication (default: 'rg'): This should always be 'rg'\n",
    " - items (default: None [API default: 50]): This is not necessary unless there is more than 50 (unlikely) or you want to limit the number returned\n",
    " - callback (default: None [API default: None]): This is only necessary if you want JSONP\n",
    "\n",
    "Examples:\n",
    " - stories = get_stories()\n",
    " - stories = get_stories('sports','Top%20Updates')\n",
    "\n",
    "\"\"\"\n",
    "def get_stories(section='local',area='Updates',publication='rg',items=None,callback=None):\n",
    "    # Set base URL\n",
    "    url = 'http://registerguard.com/csp/cms/sites/rg/feeds/json02.csp'\n",
    "    # Create params payload\n",
    "    payload = {'publication': publication, 'section': section, 'area': area}\n",
    "    if (items):\n",
    "        payload['items'] = items\n",
    "    if (callback):\n",
    "        payload['callback'] = callback\n",
    "    # Make request\n",
    "    try:\n",
    "        r = requests.get(url, params = payload)\n",
    "    except:\n",
    "        stories = None\n",
    "        logger.error(\"REQUEST FAILED - {0}: {1}\".format(url, payload))\n",
    "    if (len(r.text)):\n",
    "        d = r.text\n",
    "        j = json.loads(d)\n",
    "        #print(json.dumps(j, sort_keys=True, indent=4, separators=(',', ': ')))\n",
    "        # Go build dictionary\n",
    "        stories = id_stories(j)\n",
    "    return stories\n",
    "\n",
    "local = get_stories('local','Top Stories,Updates')\n",
    "sports = get_stories('sports','Top Updates')\n",
    "\n",
    "# Create combined DT dictionary from stories out of the system\n",
    "dt = {}\n",
    "dt.update(local)\n",
    "dt.update(sports)\n",
    "\n",
    "logger.debug(\"dt set\")"
   ]
  },
  {
   "cell_type": "code",
   "execution_count": null,
   "metadata": {
    "collapsed": true
   },
   "outputs": [],
   "source": []
  },
  {
   "cell_type": "code",
   "execution_count": 45,
   "metadata": {
    "collapsed": true
   },
   "outputs": [],
   "source": [
    "# Make sure URL is clean and does not have protocol\n",
    "def get_url(url):\n",
    "    url = \"http://{}\".format(url)\n",
    "    return url"
   ]
  },
  {
   "cell_type": "code",
   "execution_count": 46,
   "metadata": {
    "collapsed": true
   },
   "outputs": [],
   "source": [
    "# Get CMS ID from URL\n",
    "def get_id(url):\n",
    "    # Take this:\n",
    "    # //registerguard.com/rg/news/local/35849120-75/forest-fire-east-of-eugene-springfield-nears-1000-acres-burned.html.csp\n",
    "    # and get:\n",
    "    # 35849120\n",
    "    m = re.search('\\/([\\d]+)\\-[\\d]+\\/', url)\n",
    "    cms_id = m.group(1)\n",
    "    return cms_id"
   ]
  },
  {
   "cell_type": "code",
   "execution_count": 47,
   "metadata": {
    "collapsed": true
   },
   "outputs": [],
   "source": [
    "# Get Chartbeat stories\n",
    "#  - Create dictionary where keys are CMS IDs and values are dictionaries of data\n",
    "def get_cb_stories(cb_json, count=30):\n",
    "    # Create empty dictionary\n",
    "    most = {}\n",
    "    # Create counter\n",
    "    c = 0\n",
    "    # Loop over stories in Chartbeat JSON response\n",
    "    for i in cb_json['pages']:\n",
    "        # Check on our count\n",
    "        if (c <= count):\n",
    "            # Check to see if it's an article (not alwasy perfect)\n",
    "            if (i['stats']['type'] == 'Article'):\n",
    "                # Get clean URL\n",
    "                url = get_url(i['path'])\n",
    "                # Check to see if the domain is RG.com\n",
    "                if (url.split(\"/\")[2] == \"registerguard.com\"):\n",
    "                    # Try to get CMS ID\n",
    "                    try:\n",
    "                        cms_id = get_id(url)\n",
    "                    except:\n",
    "                        most = None\n",
    "                        logger.error(\"ERROR: Not a proper registerguard.com url\\n --- URL: {}\".format(url))\n",
    "                    # Check to see if you could get the CMS ID\n",
    "                    if (len(cms_id)):\n",
    "                        # Set CMS ID to URL\n",
    "                        try:\n",
    "                            most[cms_id] = url\n",
    "                        except TypeError as err:\n",
    "                            logger.error(err)\n",
    "                            logger.error(\"Bad URL: {}\".format(url))\n",
    "                        c = c + 1\n",
    "    return most"
   ]
  },
  {
   "cell_type": "code",
   "execution_count": 48,
   "metadata": {
    "collapsed": true,
    "scrolled": true
   },
   "outputs": [],
   "source": [
    "# Go out to Chartbeat API and get most popular stories right now\n",
    "def get_chartbeat():\n",
    "    # See: See: http://support.chartbeat.com/docs/api.html#toppages\n",
    "    url = 'http://api.chartbeat.com/live/toppages/v3/'\n",
    "    apikey = get_secret('chartbeat','apikey')\n",
    "    domain = 'registerguard.com'\n",
    "    types = 1\n",
    "    limit = 50\n",
    "    payload = { 'apikey': apikey, 'host': domain, 'types': types, 'limit': limit }\n",
    "    # Make request\n",
    "    try:\n",
    "        r = requests.get(url, params=payload)\n",
    "    except:\n",
    "        most = None\n",
    "        logger.error(\"REQUEST FAILED - {0}: {1}\".format(url, payload))\n",
    "    if (len(r.text)):\n",
    "        cb_text = r.text\n",
    "        cb_json = json.loads(cb_text)\n",
    "        most = get_cb_stories(cb_json)\n",
    "    return most"
   ]
  },
  {
   "cell_type": "code",
   "execution_count": 49,
   "metadata": {
    "scrolled": false
   },
   "outputs": [
    {
     "name": "stderr",
     "output_type": "stream",
     "text": [
      "2017-08-16 14:50:46,269 - DEBUG - cb set\n",
      "2017-08-16 14:50:46,269 - DEBUG - cb set\n",
      "2017-08-16 14:50:46,269 - DEBUG - cb set\n"
     ]
    }
   ],
   "source": [
    "# Set cb to Chartbeat dictionary\n",
    "cb = get_chartbeat()\n",
    "logger.debug(\"cb set\")"
   ]
  },
  {
   "cell_type": "code",
   "execution_count": null,
   "metadata": {
    "collapsed": true
   },
   "outputs": [],
   "source": []
  },
  {
   "cell_type": "code",
   "execution_count": 50,
   "metadata": {
    "collapsed": true
   },
   "outputs": [],
   "source": [
    "# See what stories are both recent and popular\n",
    "def get_recent_popular(pop_cb, pop_dt):\n",
    "    # Current datetime\n",
    "    now = datetime.now()\n",
    "    # Get datetime for 6 a.m. today\n",
    "    then = datetime(now.year, now.month, now.day, 6, 0, 0)\n",
    "    # Create empty list\n",
    "    pop = []\n",
    "    # Loop over Chartbeat stories (so that this is the order)\n",
    "    for s in pop_cb:\n",
    "        # Check to see if the story is in the DT list\n",
    "        if s in pop_dt:\n",
    "            # Set story timestamp\n",
    "            timestamp = pop_dt[s]['timestamp']\n",
    "            # Check to see if that story was published after 6 a.m. today\n",
    "            if timestamp > then:\n",
    "                # Add that story's CMS ID to the pop list\n",
    "                pop.append(s)\n",
    "    return pop\n",
    "            "
   ]
  },
  {
   "cell_type": "code",
   "execution_count": 51,
   "metadata": {},
   "outputs": [
    {
     "name": "stderr",
     "output_type": "stream",
     "text": [
      "2017-08-16 14:50:46,285 - DEBUG - popular set\n",
      "2017-08-16 14:50:46,285 - DEBUG - popular set\n",
      "2017-08-16 14:50:46,285 - DEBUG - popular set\n"
     ]
    }
   ],
   "source": [
    "# Get the list of CMS IDs of the most popular stories that were published after 6 a.m. today\n",
    "popular = get_recent_popular(cb, dt)\n",
    "logger.debug(\"popular set\")"
   ]
  },
  {
   "cell_type": "code",
   "execution_count": null,
   "metadata": {
    "collapsed": true
   },
   "outputs": [],
   "source": []
  },
  {
   "cell_type": "code",
   "execution_count": 52,
   "metadata": {
    "collapsed": true
   },
   "outputs": [],
   "source": [
    "# Need to add in some logic if there aren't enough stories!!!"
   ]
  },
  {
   "cell_type": "code",
   "execution_count": null,
   "metadata": {
    "collapsed": true
   },
   "outputs": [],
   "source": []
  },
  {
   "cell_type": "code",
   "execution_count": 53,
   "metadata": {
    "collapsed": true
   },
   "outputs": [],
   "source": [
    "# Create AP style time format\n",
    "def get_pubtime(pubtime):\n",
    "    # See: https://docs.python.org/2/library/datetime.html#strftime-and-strptime-behavior\n",
    "    pt = pubtime.strftime('%I:%M')\n",
    "    apm = pubtime.strftime('%p')\n",
    "    if (apm == \"AM\"):\n",
    "        apm = \"a.m.\"\n",
    "    elif (apm == \"PM\"):\n",
    "        apm = \"p.m.\"\n",
    "    pubtime = u\"{0} {1}\".format(pt, apm)\n",
    "    return pubtime"
   ]
  },
  {
   "cell_type": "code",
   "execution_count": 54,
   "metadata": {
    "collapsed": true
   },
   "outputs": [],
   "source": [
    "#DoSomething with the list\n",
    "# Maybe write_file()?\n",
    "html = u\"\"\n",
    "for p in popular:\n",
    "    # Get clean data\n",
    "    cat = dt[p]['category']\n",
    "    pubtime = get_pubtime(dt[p]['timestamp'])\n",
    "    url = cb[p]\n",
    "    ymd = u\"{0}{1}{2}\".format(datetime.now().year,datetime.now().month,datetime.now().day)\n",
    "    head = dt[p]['headline']\n",
    "    # Do string concatenation (YUCK!)\n",
    "    html += u\"<h4>{}</h4>\\n\".format(cat)\n",
    "    html += u\"<h2><a href='{0}?utm_source=afternoon&utm_medium=email&utm_campaign=afternoon_{1}&utm_content=headline'>{2}</a></h2>\".format(url,ymd,head)\n",
    "    html += u\"<p>Published today at: {}\\n\".format(pubtime)\n",
    "    html += u\"<hr style='clear:both'>\\n\\n\""
   ]
  },
  {
   "cell_type": "code",
   "execution_count": 55,
   "metadata": {
    "collapsed": true
   },
   "outputs": [],
   "source": [
    "out = html\n",
    "out = out.replace( u'\\u2018', u\"'\")\n",
    "out = out.replace( u'\\u2019', u\"'\")\n",
    "out = out.replace( u'\\u201c', u'\"')\n",
    "out = out.replace( u'\\u201d', u'\"')\n",
    "out.encode('utf-8')\n",
    "try:\n",
    "    write_file(out)\n",
    "except UnicodeEncodeError as err:\n",
    "    logger.error(\"ERROR: {}\\n----------------------------\\n\".format(err))\n",
    "    logger.error(out)"
   ]
  },
  {
   "cell_type": "code",
   "execution_count": 56,
   "metadata": {},
   "outputs": [
    {
     "name": "stderr",
     "output_type": "stream",
     "text": [
      "2017-08-16 14:50:46,322 - DEBUG - ^^^^^^^^^^^^^^^^^^\n",
      "2017-08-16 14:50:46,322 - DEBUG - ^^^^^^^^^^^^^^^^^^\n",
      "2017-08-16 14:50:46,322 - DEBUG - ^^^^^^^^^^^^^^^^^^\n",
      "2017-08-16 14:50:46,325 - DEBUG - - EXIT ---- EXIT -\n",
      "2017-08-16 14:50:46,325 - DEBUG - - EXIT ---- EXIT -\n",
      "2017-08-16 14:50:46,325 - DEBUG - - EXIT ---- EXIT -\n",
      "2017-08-16 14:50:46,328 - DEBUG - ------------------\n",
      "2017-08-16 14:50:46,328 - DEBUG - ------------------\n",
      "2017-08-16 14:50:46,328 - DEBUG - ------------------\n"
     ]
    }
   ],
   "source": [
    "logger.debug(\"^^^^^^^^^^^^^^^^^^\")\n",
    "logger.debug(\"- EXIT ---- EXIT -\")\n",
    "logger.debug(\"------------------\")"
   ]
  }
 ],
 "metadata": {
  "kernelspec": {
   "display_name": "Python 2",
   "language": "python",
   "name": "python2"
  },
  "language_info": {
   "codemirror_mode": {
    "name": "ipython",
    "version": 2
   },
   "file_extension": ".py",
   "mimetype": "text/x-python",
   "name": "python",
   "nbconvert_exporter": "python",
   "pygments_lexer": "ipython2",
   "version": "2.7.11"
  }
 },
 "nbformat": 4,
 "nbformat_minor": 2
}
