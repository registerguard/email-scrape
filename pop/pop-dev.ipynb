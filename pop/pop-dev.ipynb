{
 "cells": [
  {
   "cell_type": "code",
   "execution_count": 1,
   "metadata": {},
   "outputs": [
    {
     "data": {
      "text/plain": [
       "'\\n\\nGET RECENT, POPULAR STORIES\\n - Get DT\\n  > Build dict w/ only updates (published after 6 a.m today)\\n  > Merge local & sports (or not?)\\n - Get CB\\n  > Create list of IDs (because order matters!) \\n - Loop over list and do lookups on merged dict to build HTML\\n - Write file\\n\\nUPDATED\\n - 8/16/17\\n - Rob Denton/The Register-Guard\\n\\nTODO\\n - Fix shit\\n\\n'"
      ]
     },
     "execution_count": 1,
     "metadata": {},
     "output_type": "execute_result"
    }
   ],
   "source": [
    "\"\"\"\n",
    "\n",
    "GET RECENT, POPULAR STORIES\n",
    " - Get DT\n",
    "  > Build dict w/ only updates (published after 6 a.m today)\n",
    "  > Merge local & sports (or not?)\n",
    " - Get CB\n",
    "  > Create list of IDs (because order matters!) \n",
    " - Loop over list and do lookups on merged dict to build HTML\n",
    " - Write file\n",
    "\n",
    "UPDATED\n",
    " - 8/16/17\n",
    " - Rob Denton/The Register-Guard\n",
    "\n",
    "TODO\n",
    " - Fix shit\n",
    "\n",
    "\"\"\""
   ]
  },
  {
   "cell_type": "code",
   "execution_count": 2,
   "metadata": {
    "collapsed": true,
    "scrolled": true
   },
   "outputs": [],
   "source": [
    "from datetime import datetime\n",
    "import boto3, requests, os, sys, json, pprint, re, logging, logging.handlers, copy\n",
    "pp = pprint.PrettyPrinter(indent=4)"
   ]
  },
  {
   "cell_type": "code",
   "execution_count": 3,
   "metadata": {
    "collapsed": true
   },
   "outputs": [],
   "source": [
    "\"\"\"\n",
    " --- SET TO TRUE IF TESTING, FALSE BEFORE YOU PUSH TO GITHUB/WAVE ---\n",
    "\"\"\"\n",
    "\n",
    "dev = False\n",
    "\n",
    "if (dev == True):\n",
    "    here = os.path.abspath('.')\n",
    "else:\n",
    "    here = sys.argv[0].split('/')\n",
    "    here.pop()\n",
    "    here = \"/\".join(here)"
   ]
  },
  {
   "cell_type": "code",
   "execution_count": 4,
   "metadata": {
    "collapsed": true
   },
   "outputs": [],
   "source": [
    "# ----------------------------------------------------------------------------------------\n",
    "# LOGGING INITIALIZATION\n",
    "# ----------------------------------------------------------------------------------------\n",
    "\n",
    "logger = logging.getLogger('logger')\n",
    "# set level\n",
    "if (dev == True):\n",
    "    logger.setLevel(logging.DEBUG)\n",
    "else:\n",
    "    logger.setLevel(logging.ERROR)\n",
    "\n",
    "# set vars\n",
    "log_file_dir = \"{}/\".format(here)\n",
    "formatter = logging.Formatter('%(asctime)s - %(levelname)s - %(message)s')\n",
    "fileLogger = logging.handlers.RotatingFileHandler(filename=(\"{0}pop.log\".format(log_file_dir)), maxBytes=256*1024, backupCount=5) # 256 x 1024 = 256K\n",
    "fileLogger.setFormatter(formatter)\n",
    "logger.addHandler(fileLogger)\n",
    "\n",
    "\"\"\"\n",
    "if (dev == True):\n",
    "    # Uncomment below to print to console\n",
    "    handler = logging.StreamHandler()\n",
    "    handler.setFormatter(formatter)\n",
    "    logger.addHandler(handler)\n",
    "\"\"\"\n",
    "\n",
    "logger.debug(\"------------------\")\n",
    "logger.debug(\" - ENTER - ENTER -\")\n",
    "logger.debug(\"vvvvvvvvvvvvvvvvvv\")"
   ]
  },
  {
   "cell_type": "code",
   "execution_count": 5,
   "metadata": {
    "collapsed": true
   },
   "outputs": [],
   "source": [
    "\"\"\"\n",
    "\n",
    "get_secret() - Get secrets from secrets.json file\n",
    "\n",
    "Requirements:\n",
    " - Global `here` variable that knows where project root is.\n",
    "\n",
    "Arguments:\n",
    " - service: Name of service you need credentials for, should correspond to upper-level key\n",
    " - token: Name of token you need, should correspond to lower-level key\n",
    "\n",
    "Example:\n",
    " - api_key = get_secret('twitter', 'secret')\n",
    "\n",
    "\"\"\"\n",
    "def get_secret(service, token='null'):\n",
    "    secrets_path = here\n",
    "    with open(\"{}/secrets.json\".format(secrets_path)) as data:\n",
    "        s = json.load(data)\n",
    "        # If there is no token, return whole parent object\n",
    "        if token == 'null':\n",
    "            secret = s['{}'.format(service)]\n",
    "        else:\n",
    "            secret = s['{}'.format(service)]['{}'.format(token)]\n",
    "        return secret"
   ]
  },
  {
   "cell_type": "code",
   "execution_count": 6,
   "metadata": {
    "collapsed": true
   },
   "outputs": [],
   "source": [
    "\"\"\"\n",
    "\n",
    "write_file() - Write file locally and to S3\n",
    "\n",
    "Requirements:\n",
    " - Global `here` variable that knows where project root is.\n",
    "\n",
    "Arguments:\n",
    " - contents: The long string you want to insert as the contents of the file\n",
    "\n",
    "Example: \n",
    " - write_file(html)\n",
    "\n",
    "\"\"\"\n",
    "\n",
    "def write_file(contents):\n",
    "    f = open('{0}/html/index.html'.format(here), 'w+')\n",
    "    f.write(contents.encode('ascii', 'xmlcharrefreplace'))\n",
    "    f.close()\n",
    "    if (dev == False):\n",
    "        # Write to s3 (Comment out when testing)\n",
    "        # See: https://boto3.readthedocs.io/en/latest/reference/services/s3.html#S3.Client.upload_file\n",
    "        s3 = boto3.resource('s3')\n",
    "        # *** COMMENT OUT FOR DEV ***\n",
    "        s3.meta.client.upload_file('{0}/html/index.html'.format(here),'uploads.registerguard.com','email/popular/index.html', ExtraArgs={'ContentType': \"text/html\", 'ACL': \"public-read\"})"
   ]
  },
  {
   "cell_type": "code",
   "execution_count": null,
   "metadata": {
    "collapsed": true
   },
   "outputs": [],
   "source": []
  },
  {
   "cell_type": "code",
   "execution_count": 7,
   "metadata": {
    "collapsed": true
   },
   "outputs": [],
   "source": [
    "# Get clean datetime object from timestamp string\n",
    "def clean_time(timestamp):\n",
    "    # See: https://docs.python.org/2/library/datetime.html#datetime.datetime.strptime\n",
    "    timestamp = datetime.strptime(timestamp, '%Y-%m-%d %H:%M:%S')\n",
    "    return timestamp"
   ]
  },
  {
   "cell_type": "code",
   "execution_count": 8,
   "metadata": {
    "collapsed": true
   },
   "outputs": [],
   "source": [
    "# Build dictionary of stories with CMS ID as key & dictionary of other data (like timestamp) as value\n",
    "def id_stories(j):\n",
    "    # Create empty dictionary\n",
    "    stories = {}\n",
    "    # Loop over stories\n",
    "    for story in j['stories']:\n",
    "        # Parse timestamp as datetime\n",
    "        story['timestamp'] = clean_time(story['timestamp'])\n",
    "        # Get CMS ID\n",
    "        sid = story['id']\n",
    "        # Get rid of extra values we don't need\n",
    "        story.pop('id')\n",
    "        story.pop('total')\n",
    "        # Create dictionary\n",
    "        stories[sid] = story\n",
    "    return stories"
   ]
  },
  {
   "cell_type": "code",
   "execution_count": 9,
   "metadata": {
    "collapsed": true
   },
   "outputs": [],
   "source": [
    "\"\"\"\n",
    "\n",
    "get_stories() --- Go get stories from the RG's JSON feed\n",
    "\n",
    "Arguments:\n",
    " - section (default: 'local'): This can be any valid section\n",
    " - area (default: 'Updates'): This can be any valide area\n",
    " - publication (default: 'rg'): This should always be 'rg'\n",
    " - items (default: None [API default: 50]): This is not necessary unless there is more than 50 (unlikely) or you want to limit the number returned\n",
    " - callback (default: None [API default: None]): This is only necessary if you want JSONP\n",
    "\n",
    "Examples:\n",
    " - stories = get_stories()\n",
    " - stories = get_stories('sports','Top%20Updates')\n",
    "\n",
    "\"\"\"\n",
    "def get_stories(section='local',area='Updates',publication='rg',items=None,callback=None):\n",
    "    # Set base URL\n",
    "    url = 'http://registerguard.com/csp/cms/sites/rg/feeds/json02.csp'\n",
    "    # Create params payload\n",
    "    payload = {'publication': publication, 'section': section, 'area': area}\n",
    "    if (items):\n",
    "        payload['items'] = items\n",
    "    if (callback):\n",
    "        payload['callback'] = callback\n",
    "    # Make request\n",
    "    try:\n",
    "        r = requests.get(url, params = payload)\n",
    "    except:\n",
    "        stories = None\n",
    "        logger.error(\"REQUEST FAILED - {0}: {1}\".format(url, payload))\n",
    "    if (len(r.text)):\n",
    "        d = r.text\n",
    "        j = json.loads(d)\n",
    "        #print(json.dumps(j, sort_keys=True, indent=4, separators=(',', ': ')))\n",
    "        # Go build dictionary\n",
    "        stories = id_stories(j)\n",
    "    return stories\n",
    "\n",
    "local = get_stories('local','Top Stories,Updates')\n",
    "sports = get_stories('sports','Top Updates')\n",
    "\n",
    "# Create combined DT dictionary from stories out of the system\n",
    "dt = {}\n",
    "dt.update(local)\n",
    "dt.update(sports)\n",
    "#logger.debug(\"dt set:\\n{}\".format(dt))"
   ]
  },
  {
   "cell_type": "code",
   "execution_count": null,
   "metadata": {
    "collapsed": true
   },
   "outputs": [],
   "source": []
  },
  {
   "cell_type": "code",
   "execution_count": 10,
   "metadata": {},
   "outputs": [
    {
     "name": "stdout",
     "output_type": "stream",
     "text": [
      "2017-09-04 22:56:37\n",
      "fail\n",
      "2017-09-05 12:50:01\n",
      "SUCCESS\n",
      "2017-09-05 14:46:00\n",
      "SUCCESS\n",
      "2017-09-04 16:39:00\n",
      "fail\n",
      "2017-09-05 14:39:01\n",
      "SUCCESS\n",
      "2017-09-05 14:10:01\n",
      "SUCCESS\n",
      "2017-09-05 11:33:00\n",
      "SUCCESS\n",
      "2017-09-05 11:36:00\n",
      "SUCCESS\n",
      "2017-09-05 10:39:01\n",
      "SUCCESS\n",
      "2017-09-05 13:06:01\n",
      "SUCCESS\n",
      "2017-09-05 10:49:00\n",
      "SUCCESS\n",
      "2017-09-05 15:56:01\n",
      "SUCCESS\n",
      "2017-09-05 14:09:01\n",
      "SUCCESS\n",
      "2017-09-05 10:01:01\n",
      "SUCCESS\n",
      "2017-09-05 12:45:01\n",
      "SUCCESS\n",
      "2017-09-04 23:20:48\n",
      "fail\n",
      "13\n"
     ]
    }
   ],
   "source": [
    "def get_updates(d):\n",
    "    # So you don't delete from dt\n",
    "    #print(type(d))\n",
    "    u = copy.copy(d)\n",
    "    # Current datetime\n",
    "    now = datetime.now()\n",
    "    # Get datetime for 6 a.m. today\n",
    "    then = datetime(now.year, now.month, now.day, 6, 0, 0)\n",
    "    for i in u.keys():\n",
    "        #print(u[i]['timestamp'])\n",
    "        if u[i]['timestamp'] < then:\n",
    "            del(u[i])\n",
    "        #    print(\"fail\")\n",
    "        #else:\n",
    "        #    print(\"SUCCESS\")\n",
    "    return u\n",
    "\n",
    "updates = get_updates(dt)\n",
    "#print(len(updates))\n",
    "#print(\"\\n\")\n",
    "#print(\"dt\")\n",
    "#for i in dt:\n",
    "#    print(dt[i]['timestamp'])\n",
    "#print(\"updates\")\n",
    "#for i in updates:\n",
    "#    print(updates[i]['timestamp'])\"\"\""
   ]
  },
  {
   "cell_type": "code",
   "execution_count": null,
   "metadata": {
    "collapsed": true
   },
   "outputs": [],
   "source": []
  },
  {
   "cell_type": "code",
   "execution_count": 11,
   "metadata": {
    "collapsed": true
   },
   "outputs": [],
   "source": [
    "# Get CMS ID from URL\n",
    "def get_id(url):\n",
    "    # Take this:\n",
    "    # //registerguard.com/rg/news/local/35849120-75/forest-fire-east-of-eugene-springfield-nears-1000-acres-burned.html.csp\n",
    "    # and get:\n",
    "    # 35849120\n",
    "    m = re.search('\\/([\\d]+)\\-[\\d]+\\/', url)\n",
    "    cms_id = m.group(1)\n",
    "    return cms_id"
   ]
  },
  {
   "cell_type": "code",
   "execution_count": 12,
   "metadata": {
    "collapsed": true
   },
   "outputs": [],
   "source": [
    "# Get Chartbeat stories\n",
    "#  - Create dictionary where keys are CMS IDs and values are dictionaries of data\n",
    "def get_cb_stories(cb_json, count=20):\n",
    "    # Create empty dictionary\n",
    "    most = []\n",
    "    # Create counter\n",
    "    c = 0\n",
    "    # Loop over stories in Chartbeat JSON response\n",
    "    for i in cb_json['pages']:\n",
    "        # Check on our count\n",
    "        if (c <= count):\n",
    "            # Check to see if it's an article (not alwasy perfect)\n",
    "            if (i['stats']['type'] == 'Article'):\n",
    "                # Get clean URL\n",
    "                url = i['path']\n",
    "                # Check to see if the domain is RG.com\n",
    "                if (url.split(\"/\")[0] == \"registerguard.com\"):\n",
    "                    # Try to get CMS ID\n",
    "                    try:\n",
    "                        cms_id = get_id(url)\n",
    "                    except:\n",
    "                        logger.error(\"ERROR: BAD URL\\n --- URL: {}\".format(url))\n",
    "                    # Check to see if you could get the CMS ID\n",
    "                    if (cms_id != None):\n",
    "                        # Add id to most\n",
    "                        most.append(cms_id)\n",
    "                        c = c + 1\n",
    "    return most"
   ]
  },
  {
   "cell_type": "code",
   "execution_count": 13,
   "metadata": {
    "collapsed": true,
    "scrolled": true
   },
   "outputs": [],
   "source": [
    "# Go out to Chartbeat API and get most popular stories right now\n",
    "def get_chartbeat():\n",
    "    # See: See: http://support.chartbeat.com/docs/api.html#toppages\n",
    "    url = 'http://api.chartbeat.com/live/toppages/v3/'\n",
    "    apikey = get_secret('chartbeat','apikey')\n",
    "    domain = 'registerguard.com'\n",
    "    types = 1\n",
    "    limit = 50\n",
    "    payload = { 'apikey': apikey, 'host': domain, 'types': types, 'limit': limit }\n",
    "    # Make request\n",
    "    try:\n",
    "        r = requests.get(url, params=payload)\n",
    "    except:\n",
    "        most = None\n",
    "        logger.error(\"REQUEST FAILED - {0}: {1}\".format(url, payload))\n",
    "    if (len(r.text)):\n",
    "        cb_text = r.text\n",
    "        cb_json = json.loads(cb_text)\n",
    "        most = get_cb_stories(cb_json)\n",
    "    return most"
   ]
  },
  {
   "cell_type": "code",
   "execution_count": 14,
   "metadata": {
    "collapsed": true,
    "scrolled": false
   },
   "outputs": [],
   "source": [
    "# Set cb to Chartbeat dictionary\n",
    "cb = get_chartbeat()\n",
    "logger.debug(\"cb set:\\n{}\".format(cb))"
   ]
  },
  {
   "cell_type": "code",
   "execution_count": null,
   "metadata": {
    "collapsed": true
   },
   "outputs": [],
   "source": []
  },
  {
   "cell_type": "code",
   "execution_count": 15,
   "metadata": {
    "collapsed": true
   },
   "outputs": [],
   "source": [
    "#print(len(updates))\n",
    "#print(len(dt))\n",
    "if (len(updates) < 5):\n",
    "    system_stories = dt\n",
    "else:\n",
    "    system_stories = updates\n",
    "\n",
    "\n",
    "#pp.pprint(system_stories)    \n",
    "\n",
    "def get_pop(c, s):\n",
    "    pop = []\n",
    "    for i in c:\n",
    "        if (i in s.keys()):\n",
    "            one = {}\n",
    "            one = s[i]\n",
    "            one['id'] = i\n",
    "            pop.append(one)\n",
    "    logger.debug(\"length: {}\".format(len(pop)))\n",
    "    return pop\n",
    "\n",
    "popular = get_pop(cb, system_stories)\n",
    "#pp.pprint(popular)\n",
    "#print(len(popular))\n",
    "logger.debug(\"popular set:\\n{}\".format(popular))"
   ]
  },
  {
   "cell_type": "code",
   "execution_count": null,
   "metadata": {
    "collapsed": true
   },
   "outputs": [],
   "source": []
  },
  {
   "cell_type": "code",
   "execution_count": 16,
   "metadata": {
    "collapsed": true
   },
   "outputs": [],
   "source": [
    "# Need to add in some logic if there aren't enough stories!!!"
   ]
  },
  {
   "cell_type": "code",
   "execution_count": null,
   "metadata": {
    "collapsed": true
   },
   "outputs": [],
   "source": []
  },
  {
   "cell_type": "code",
   "execution_count": 17,
   "metadata": {
    "collapsed": true
   },
   "outputs": [],
   "source": [
    "# Create AP style time format\n",
    "def get_pubtime(pubtime):\n",
    "    # See: https://docs.python.org/2/library/datetime.html#strftime-and-strptime-behavior\n",
    "    pt = pubtime.strftime('%I:%M')\n",
    "    apm = pubtime.strftime('%p')\n",
    "    if (apm == \"AM\"):\n",
    "        apm = \"a.m.\"\n",
    "    elif (apm == \"PM\"):\n",
    "        apm = \"p.m.\"\n",
    "    pubtime = u\"{0} {1}\".format(pt, apm)\n",
    "    return pubtime"
   ]
  },
  {
   "cell_type": "code",
   "execution_count": 18,
   "metadata": {
    "collapsed": true
   },
   "outputs": [],
   "source": [
    "#DoSomething with the list\n",
    "# Maybe write_file()?\n",
    "html = u\"\"\n",
    "for p in popular:\n",
    "    # Get clean data\n",
    "    cat = p['category']\n",
    "    pubtime = get_pubtime(p['timestamp'])\n",
    "    url = p['url']\n",
    "    ymd = u\"{0}{1}{2}\".format(datetime.now().year,datetime.now().month,datetime.now().day)\n",
    "    head = p['headline']\n",
    "    # Do string concatenation (YUCK!)\n",
    "    html += u\"<h4>{}</h4>\\n\".format(cat)\n",
    "    html += u\"<h2><a href='{0}?utm_source=afternoon&utm_medium=email&utm_campaign=afternoon_{1}&utm_content=headline'>{2}</a></h2>\".format(url,ymd,head)\n",
    "    html += u\"<p class='italic'>Published today at: {}</p>\\n\".format(pubtime)\n",
    "    html += u\"<hr style='clear:both'>\\n\\n\""
   ]
  },
  {
   "cell_type": "code",
   "execution_count": 19,
   "metadata": {
    "collapsed": true
   },
   "outputs": [],
   "source": [
    "logger.debug(html)\n",
    "out = html\n",
    "try:\n",
    "    write_file(out)\n",
    "except UnicodeEncodeError as err:\n",
    "    logger.error(\"ERROR: {}\\n----------------------------\\n\".format(err))\n",
    "    logger.error(out)"
   ]
  },
  {
   "cell_type": "code",
   "execution_count": 20,
   "metadata": {
    "collapsed": true
   },
   "outputs": [],
   "source": [
    "logger.debug(\"^^^^^^^^^^^^^^^^^^\")\n",
    "logger.debug(\"- EXIT ---- EXIT -\")\n",
    "logger.debug(\"------------------\")"
   ]
  },
  {
   "cell_type": "code",
   "execution_count": null,
   "metadata": {
    "collapsed": true
   },
   "outputs": [],
   "source": []
  }
 ],
 "metadata": {
  "kernelspec": {
   "display_name": "Python 2",
   "language": "python",
   "name": "python2"
  },
  "language_info": {
   "codemirror_mode": {
    "name": "ipython",
    "version": 2
   },
   "file_extension": ".py",
   "mimetype": "text/x-python",
   "name": "python",
   "nbconvert_exporter": "python",
   "pygments_lexer": "ipython2",
   "version": "2.7.11"
  }
 },
 "nbformat": 4,
 "nbformat_minor": 2
}
