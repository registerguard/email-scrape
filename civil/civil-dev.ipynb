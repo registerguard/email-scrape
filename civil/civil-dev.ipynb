{
 "cells": [
  {
   "cell_type": "code",
   "execution_count": 135,
   "metadata": {
    "collapsed": true
   },
   "outputs": [],
   "source": [
    "\"\"\"\n",
    "\n",
    "CIVIL API \n",
    " - Most commented\n",
    "\n",
    "CREATED\n",
    " - 8/15/17\n",
    " - Rob Denton/The Register-Guard\n",
    "\n",
    "TODO\n",
    " - Add logging\n",
    "\n",
    "\"\"\"\n",
    "\n",
    "import requests, json, boto3, os, sys, logging, logging.handlers"
   ]
  },
  {
   "cell_type": "code",
   "execution_count": 136,
   "metadata": {
    "collapsed": true
   },
   "outputs": [],
   "source": [
    "\"\"\"\n",
    " --- SET TO TRUE IF TESTING, FALSE BEFORE YOU PUSH TO GITHUB/WAVE ---\n",
    "\"\"\"\n",
    "\n",
    "dev = False\n",
    "\n",
    "if (dev == True):\n",
    "    here = os.path.abspath('.')\n",
    "else:\n",
    "    here = sys.argv[0].split('/')\n",
    "    here.pop()\n",
    "    here = \"/\".join(here)\n",
    "\n",
    "#print(dev)"
   ]
  },
  {
   "cell_type": "code",
   "execution_count": 137,
   "metadata": {
    "collapsed": true
   },
   "outputs": [],
   "source": [
    "# ----------------------------------------------------------------------------------------\n",
    "# LOGGING INITIALIZATION\n",
    "# ----------------------------------------------------------------------------------------\n",
    "\n",
    "logger = logging.getLogger('logger')\n",
    "# set level\n",
    "if (dev == True):\n",
    "    logger.setLevel(logging.DEBUG)\n",
    "else:\n",
    "    logger.setLevel(logging.ERROR)\n",
    "\n",
    "# set vars\n",
    "log_file_dir = \"{}/\".format(here)\n",
    "formatter = logging.Formatter('%(asctime)s - %(levelname)s - %(message)s')\n",
    "fileLogger = logging.handlers.RotatingFileHandler(filename=(\"{0}civil.log\".format(log_file_dir)), maxBytes=256*1024, backupCount=5) # 256 x 1024 = 256K\n",
    "fileLogger.setFormatter(formatter)\n",
    "logger.addHandler(fileLogger)\n",
    "\n",
    "\"\"\"\n",
    "if (dev == True):\n",
    "    # Uncomment below to print to console\n",
    "    handler = logging.StreamHandler()\n",
    "    handler.setFormatter(formatter)\n",
    "    logger.addHandler(handler)\n",
    "\"\"\"\n",
    "\n",
    "logger.debug(\"------------------\")\n",
    "logger.debug(\" - ENTER - ENTER -\")\n",
    "logger.debug(\"vvvvvvvvvvvvvvvvvv\")\n",
    "#print('logging')"
   ]
  },
  {
   "cell_type": "code",
   "execution_count": 138,
   "metadata": {
    "collapsed": true
   },
   "outputs": [],
   "source": [
    "\"\"\"\n",
    "\n",
    "write_file() - Write file locally and to S3\n",
    "\n",
    "Requirements:\n",
    " - Global `here` variable that knows where project root is.\n",
    "\n",
    "Arguments:\n",
    " - contents: The long string you want to insert as the contents of the file\n",
    "\n",
    "Example: \n",
    " - write_file(html)\n",
    "\n",
    "\"\"\"\n",
    "\n",
    "def write_file(contents):\n",
    "    f = open('{0}/html/index.html'.format(here), 'w+')\n",
    "    f.write(contents.encode('ascii', 'xmlcharrefreplace'))\n",
    "    f.close()\n",
    "    if (dev == False):\n",
    "        # Write to s3 (Comment out when testing)\n",
    "        # See: https://boto3.readthedocs.io/en/latest/reference/services/s3.html#S3.Client.upload_file\n",
    "        s3 = boto3.resource('s3')\n",
    "        # *** COMMENT OUT FOR DEV ***\n",
    "        s3.meta.client.upload_file('{0}/html/index.html'.format(here),'uploads.registerguard.com','email/civil/index.html', ExtraArgs={'ContentType': \"text/html\", 'ACL': \"public-read\"})"
   ]
  },
  {
   "cell_type": "code",
   "execution_count": 139,
   "metadata": {
    "collapsed": true
   },
   "outputs": [],
   "source": [
    "def get_url(url):\n",
    "    url = \"http://{}\".format(url)\n",
    "    return url"
   ]
  },
  {
   "cell_type": "code",
   "execution_count": 140,
   "metadata": {
    "collapsed": true
   },
   "outputs": [],
   "source": [
    "def get_civil():\n",
    "    # See: \"Feature request civil api\" email from 10/10/16 with Christa Mrgan\n",
    "    url = \"https://app.civilcomments.com/api/v1/topics/most_commented.json\"\n",
    "    slug = \"registerguard\"\n",
    "    days = 1\n",
    "    payload = {\"publication_slug\": slug, \"days_since\": days}\n",
    "    try:\n",
    "        r = requests.get(url, params=payload)\n",
    "    except:\n",
    "        cv_json = None\n",
    "        logger.error(\"REQUEST ERROR - {0}: {1}\".format(url,params))\n",
    "    if (len(r.text)):\n",
    "        cv_json = r.json()\n",
    "    return cv_json"
   ]
  },
  {
   "cell_type": "code",
   "execution_count": 141,
   "metadata": {
    "collapsed": true
   },
   "outputs": [],
   "source": [
    "def analyze_civil(cv_json):\n",
    "    # HTML\n",
    "    html = u\"<table class='ol'>\\n\"\n",
    "    # Control number of titles\n",
    "    for n, i in enumerate(cv_json['topics']):\n",
    "        # Get story variables\n",
    "        url = get_url(i['url'])\n",
    "        title = i['title']\n",
    "        logger.debug(title)\n",
    "        comments = i['comments_count']\n",
    "        # Concatenate some HTML\n",
    "        html += u\"\\t<tr>\\n\"\n",
    "        html += u\"\\t\\t<td align='left' valign='top' class='title'>{0}.</td>\\n\".format(n+1)\n",
    "        html += u\"\\t\\t<td align='left' valign='top' class='title'><a href='{0}' target='_blank'>{1}</a> – {2} comments</td>\\n\".format(url, title, comments)\n",
    "        html += u\"\\t</tr>\\n\"\n",
    "    html += u\"</table>\"\n",
    "    return html"
   ]
  },
  {
   "cell_type": "code",
   "execution_count": 142,
   "metadata": {},
   "outputs": [],
   "source": [
    "cv = get_civil()\n",
    "cv_html = analyze_civil(cv)\n",
    "\n",
    "try:\n",
    "    #logger.debug(cv_html)\n",
    "    write_file(cv_html)\n",
    "except:\n",
    "    logger.error(\"WRITE ERROR - Cannot write_file\")"
   ]
  },
  {
   "cell_type": "code",
   "execution_count": 143,
   "metadata": {
    "collapsed": true
   },
   "outputs": [],
   "source": [
    "logger.debug(\"^^^^^^^^^^^^^^^^^^\")\n",
    "logger.debug(\" - EXIT --- EXIT -\")\n",
    "logger.debug(\"------------------\")"
   ]
  }
 ],
 "metadata": {
  "kernelspec": {
   "display_name": "Python 2",
   "language": "python",
   "name": "python2"
  },
  "language_info": {
   "codemirror_mode": {
    "name": "ipython",
    "version": 2
   },
   "file_extension": ".py",
   "mimetype": "text/x-python",
   "name": "python",
   "nbconvert_exporter": "python",
   "pygments_lexer": "ipython2",
   "version": "2.7.11"
  }
 },
 "nbformat": 4,
 "nbformat_minor": 2
}
